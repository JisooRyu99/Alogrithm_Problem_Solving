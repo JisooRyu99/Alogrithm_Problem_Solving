{
 "cells": [
  {
   "cell_type": "code",
   "execution_count": 10,
   "metadata": {},
   "outputs": [
    {
     "data": {
      "text/plain": [
       "1"
      ]
     },
     "execution_count": 10,
     "metadata": {},
     "output_type": "execute_result"
    }
   ],
   "source": [
    "def solution(s):\n",
    "    stack=[]\n",
    "    for c in s:\n",
    "        if len(stack)==0:\n",
    "            stack.append(c)\n",
    "            continue\n",
    "\n",
    "        if stack[-1]!=c:\n",
    "            stack.append(c)\n",
    "        else: stack.pop()\n",
    "    if len(stack)==0:\n",
    "        return 1\n",
    "    else : return 0"
   ]
  },
  {
   "cell_type": "code",
   "execution_count": null,
   "metadata": {},
   "outputs": [],
   "source": []
  },
  {
   "cell_type": "code",
   "execution_count": 18,
   "metadata": {},
   "outputs": [
    {
     "data": {
      "text/plain": [
       "['c', 'd', 'c', 'd']"
      ]
     },
     "execution_count": 18,
     "metadata": {},
     "output_type": "execute_result"
    }
   ],
   "source": [
    "def test(s):\n",
    "    stack=[]\n",
    "    for i in s:\n",
    "        if not stack:\n",
    "            stack.append(i)\n",
    "            continue\n",
    "\n",
    "        if stack[-1]==i:\n",
    "            stack.pop()\n",
    "        else: stack.append(i)\n",
    "\n",
    "    if not stack:\n",
    "        return 1\n",
    "    else: return 0    \n",
    "    \n",
    "s = \"cdcd\"\n",
    "test(s)"
   ]
  },
  {
   "cell_type": "code",
   "execution_count": null,
   "metadata": {},
   "outputs": [],
   "source": [
    "def solution(s):\n",
    "    stack=[]    # 빈 list 만들어주기\n",
    "    for i in s:\n",
    "        if not stack:   \n",
    "            stack.append(i)\n",
    "            continue\n",
    "\n",
    "        if stack[-1]==i:    # stack의 마지막 원소와 i와 같으면 pop\n",
    "            stack.pop()\n",
    "        else: stack.append(i)   # 같지 않으면 stack에 넣기\n",
    "\n",
    "    if not stack:\n",
    "        return 1    # stack에 아무것도 없으면 1\n",
    "    else: return 0    # stack에 하나라도 있으면 0"
   ]
  },
  {
   "cell_type": "code",
   "execution_count": null,
   "metadata": {},
   "outputs": [],
   "source": []
  }
 ],
 "metadata": {
  "interpreter": {
   "hash": "3e5d4e373abec4c3283c26ba9b3fb18a85d355ac2ab2af6427bffc4e61c9f53e"
  },
  "kernelspec": {
   "display_name": "Python 3.8.12 64-bit ('js': conda)",
   "language": "python",
   "name": "python3"
  },
  "language_info": {
   "codemirror_mode": {
    "name": "ipython",
    "version": 3
   },
   "file_extension": ".py",
   "mimetype": "text/x-python",
   "name": "python",
   "nbconvert_exporter": "python",
   "pygments_lexer": "ipython3",
   "version": "3.8.12"
  },
  "orig_nbformat": 4
 },
 "nbformat": 4,
 "nbformat_minor": 2
}
